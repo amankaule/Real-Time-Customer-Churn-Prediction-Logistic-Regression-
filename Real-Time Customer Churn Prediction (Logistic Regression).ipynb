{
 "cells": [
  {
   "cell_type": "code",
   "execution_count": 66,
   "id": "82b74426-128a-41d0-9fda-ba9a2a8b1d17",
   "metadata": {},
   "outputs": [],
   "source": [
    "import pandas as pd\n",
    "import numpy as np\n",
    "import matplotlib.pyplot as plt\n",
    "import seaborn as sns\n",
    "from sklearn.model_selection import train_test_split\n",
    "from sklearn.preprocessing import StandardScaler\n",
    "from sklearn.linear_model import LogisticRegression\n",
    "from sklearn.metrics import (\n",
    "    accuracy_score, precision_score, recall_score,\n",
    "    f1_score, roc_auc_score, confusion_matrix, classification_report\n",
    ")"
   ]
  },
  {
   "cell_type": "code",
   "execution_count": 67,
   "id": "bd802fc4-5774-47d0-83cc-85b471da7c3a",
   "metadata": {},
   "outputs": [],
   "source": [
    "df = pd.read_csv(\"telco.csv\")"
   ]
  },
  {
   "cell_type": "code",
   "execution_count": 68,
   "id": "3f17aca0-cabb-481e-8de7-44ac6e57e1c3",
   "metadata": {},
   "outputs": [
    {
     "data": {
      "text/html": [
       "<div>\n",
       "<style scoped>\n",
       "    .dataframe tbody tr th:only-of-type {\n",
       "        vertical-align: middle;\n",
       "    }\n",
       "\n",
       "    .dataframe tbody tr th {\n",
       "        vertical-align: top;\n",
       "    }\n",
       "\n",
       "    .dataframe thead th {\n",
       "        text-align: right;\n",
       "    }\n",
       "</style>\n",
       "<table border=\"1\" class=\"dataframe\">\n",
       "  <thead>\n",
       "    <tr style=\"text-align: right;\">\n",
       "      <th></th>\n",
       "      <th>Customer ID</th>\n",
       "      <th>Gender</th>\n",
       "      <th>Age</th>\n",
       "      <th>Under 30</th>\n",
       "      <th>Senior Citizen</th>\n",
       "      <th>Married</th>\n",
       "      <th>Dependents</th>\n",
       "      <th>Number of Dependents</th>\n",
       "      <th>Country</th>\n",
       "      <th>State</th>\n",
       "      <th>...</th>\n",
       "      <th>Total Extra Data Charges</th>\n",
       "      <th>Total Long Distance Charges</th>\n",
       "      <th>Total Revenue</th>\n",
       "      <th>Satisfaction Score</th>\n",
       "      <th>Customer Status</th>\n",
       "      <th>Churn Label</th>\n",
       "      <th>Churn Score</th>\n",
       "      <th>CLTV</th>\n",
       "      <th>Churn Category</th>\n",
       "      <th>Churn Reason</th>\n",
       "    </tr>\n",
       "  </thead>\n",
       "  <tbody>\n",
       "    <tr>\n",
       "      <th>0</th>\n",
       "      <td>8779-QRDMV</td>\n",
       "      <td>Male</td>\n",
       "      <td>78</td>\n",
       "      <td>No</td>\n",
       "      <td>Yes</td>\n",
       "      <td>No</td>\n",
       "      <td>No</td>\n",
       "      <td>0</td>\n",
       "      <td>United States</td>\n",
       "      <td>California</td>\n",
       "      <td>...</td>\n",
       "      <td>20</td>\n",
       "      <td>0.00</td>\n",
       "      <td>59.65</td>\n",
       "      <td>3</td>\n",
       "      <td>Churned</td>\n",
       "      <td>Yes</td>\n",
       "      <td>91</td>\n",
       "      <td>5433</td>\n",
       "      <td>Competitor</td>\n",
       "      <td>Competitor offered more data</td>\n",
       "    </tr>\n",
       "    <tr>\n",
       "      <th>1</th>\n",
       "      <td>7495-OOKFY</td>\n",
       "      <td>Female</td>\n",
       "      <td>74</td>\n",
       "      <td>No</td>\n",
       "      <td>Yes</td>\n",
       "      <td>Yes</td>\n",
       "      <td>Yes</td>\n",
       "      <td>1</td>\n",
       "      <td>United States</td>\n",
       "      <td>California</td>\n",
       "      <td>...</td>\n",
       "      <td>0</td>\n",
       "      <td>390.80</td>\n",
       "      <td>1024.10</td>\n",
       "      <td>3</td>\n",
       "      <td>Churned</td>\n",
       "      <td>Yes</td>\n",
       "      <td>69</td>\n",
       "      <td>5302</td>\n",
       "      <td>Competitor</td>\n",
       "      <td>Competitor made better offer</td>\n",
       "    </tr>\n",
       "    <tr>\n",
       "      <th>2</th>\n",
       "      <td>1658-BYGOY</td>\n",
       "      <td>Male</td>\n",
       "      <td>71</td>\n",
       "      <td>No</td>\n",
       "      <td>Yes</td>\n",
       "      <td>No</td>\n",
       "      <td>Yes</td>\n",
       "      <td>3</td>\n",
       "      <td>United States</td>\n",
       "      <td>California</td>\n",
       "      <td>...</td>\n",
       "      <td>0</td>\n",
       "      <td>203.94</td>\n",
       "      <td>1910.88</td>\n",
       "      <td>2</td>\n",
       "      <td>Churned</td>\n",
       "      <td>Yes</td>\n",
       "      <td>81</td>\n",
       "      <td>3179</td>\n",
       "      <td>Competitor</td>\n",
       "      <td>Competitor made better offer</td>\n",
       "    </tr>\n",
       "    <tr>\n",
       "      <th>3</th>\n",
       "      <td>4598-XLKNJ</td>\n",
       "      <td>Female</td>\n",
       "      <td>78</td>\n",
       "      <td>No</td>\n",
       "      <td>Yes</td>\n",
       "      <td>Yes</td>\n",
       "      <td>Yes</td>\n",
       "      <td>1</td>\n",
       "      <td>United States</td>\n",
       "      <td>California</td>\n",
       "      <td>...</td>\n",
       "      <td>0</td>\n",
       "      <td>494.00</td>\n",
       "      <td>2995.07</td>\n",
       "      <td>2</td>\n",
       "      <td>Churned</td>\n",
       "      <td>Yes</td>\n",
       "      <td>88</td>\n",
       "      <td>5337</td>\n",
       "      <td>Dissatisfaction</td>\n",
       "      <td>Limited range of services</td>\n",
       "    </tr>\n",
       "    <tr>\n",
       "      <th>4</th>\n",
       "      <td>4846-WHAFZ</td>\n",
       "      <td>Female</td>\n",
       "      <td>80</td>\n",
       "      <td>No</td>\n",
       "      <td>Yes</td>\n",
       "      <td>Yes</td>\n",
       "      <td>Yes</td>\n",
       "      <td>1</td>\n",
       "      <td>United States</td>\n",
       "      <td>California</td>\n",
       "      <td>...</td>\n",
       "      <td>0</td>\n",
       "      <td>234.21</td>\n",
       "      <td>3102.36</td>\n",
       "      <td>2</td>\n",
       "      <td>Churned</td>\n",
       "      <td>Yes</td>\n",
       "      <td>67</td>\n",
       "      <td>2793</td>\n",
       "      <td>Price</td>\n",
       "      <td>Extra data charges</td>\n",
       "    </tr>\n",
       "  </tbody>\n",
       "</table>\n",
       "<p>5 rows × 50 columns</p>\n",
       "</div>"
      ],
      "text/plain": [
       "  Customer ID  Gender  Age Under 30 Senior Citizen Married Dependents  \\\n",
       "0  8779-QRDMV    Male   78       No            Yes      No         No   \n",
       "1  7495-OOKFY  Female   74       No            Yes     Yes        Yes   \n",
       "2  1658-BYGOY    Male   71       No            Yes      No        Yes   \n",
       "3  4598-XLKNJ  Female   78       No            Yes     Yes        Yes   \n",
       "4  4846-WHAFZ  Female   80       No            Yes     Yes        Yes   \n",
       "\n",
       "   Number of Dependents        Country       State  ...  \\\n",
       "0                     0  United States  California  ...   \n",
       "1                     1  United States  California  ...   \n",
       "2                     3  United States  California  ...   \n",
       "3                     1  United States  California  ...   \n",
       "4                     1  United States  California  ...   \n",
       "\n",
       "  Total Extra Data Charges  Total Long Distance Charges  Total Revenue  \\\n",
       "0                       20                         0.00          59.65   \n",
       "1                        0                       390.80        1024.10   \n",
       "2                        0                       203.94        1910.88   \n",
       "3                        0                       494.00        2995.07   \n",
       "4                        0                       234.21        3102.36   \n",
       "\n",
       "   Satisfaction Score  Customer Status Churn Label Churn Score  CLTV  \\\n",
       "0                   3          Churned         Yes          91  5433   \n",
       "1                   3          Churned         Yes          69  5302   \n",
       "2                   2          Churned         Yes          81  3179   \n",
       "3                   2          Churned         Yes          88  5337   \n",
       "4                   2          Churned         Yes          67  2793   \n",
       "\n",
       "    Churn Category                  Churn Reason  \n",
       "0       Competitor  Competitor offered more data  \n",
       "1       Competitor  Competitor made better offer  \n",
       "2       Competitor  Competitor made better offer  \n",
       "3  Dissatisfaction     Limited range of services  \n",
       "4            Price            Extra data charges  \n",
       "\n",
       "[5 rows x 50 columns]"
      ]
     },
     "execution_count": 68,
     "metadata": {},
     "output_type": "execute_result"
    }
   ],
   "source": [
    "df.head()"
   ]
  },
  {
   "cell_type": "code",
   "execution_count": 69,
   "id": "011dbf56-8ceb-44ff-9cbe-5eac01a531e1",
   "metadata": {},
   "outputs": [
    {
     "data": {
      "text/html": [
       "<div>\n",
       "<style scoped>\n",
       "    .dataframe tbody tr th:only-of-type {\n",
       "        vertical-align: middle;\n",
       "    }\n",
       "\n",
       "    .dataframe tbody tr th {\n",
       "        vertical-align: top;\n",
       "    }\n",
       "\n",
       "    .dataframe thead th {\n",
       "        text-align: right;\n",
       "    }\n",
       "</style>\n",
       "<table border=\"1\" class=\"dataframe\">\n",
       "  <thead>\n",
       "    <tr style=\"text-align: right;\">\n",
       "      <th></th>\n",
       "      <th>Customer ID</th>\n",
       "      <th>Gender</th>\n",
       "      <th>Age</th>\n",
       "      <th>Under 30</th>\n",
       "      <th>Senior Citizen</th>\n",
       "      <th>Married</th>\n",
       "      <th>Dependents</th>\n",
       "      <th>Number of Dependents</th>\n",
       "      <th>Country</th>\n",
       "      <th>State</th>\n",
       "      <th>...</th>\n",
       "      <th>Total Extra Data Charges</th>\n",
       "      <th>Total Long Distance Charges</th>\n",
       "      <th>Total Revenue</th>\n",
       "      <th>Satisfaction Score</th>\n",
       "      <th>Customer Status</th>\n",
       "      <th>Churn Label</th>\n",
       "      <th>Churn Score</th>\n",
       "      <th>CLTV</th>\n",
       "      <th>Churn Category</th>\n",
       "      <th>Churn Reason</th>\n",
       "    </tr>\n",
       "  </thead>\n",
       "  <tbody>\n",
       "    <tr>\n",
       "      <th>7038</th>\n",
       "      <td>2569-WGERO</td>\n",
       "      <td>Female</td>\n",
       "      <td>30</td>\n",
       "      <td>No</td>\n",
       "      <td>No</td>\n",
       "      <td>No</td>\n",
       "      <td>No</td>\n",
       "      <td>0</td>\n",
       "      <td>United States</td>\n",
       "      <td>California</td>\n",
       "      <td>...</td>\n",
       "      <td>0</td>\n",
       "      <td>1639.44</td>\n",
       "      <td>3039.53</td>\n",
       "      <td>5</td>\n",
       "      <td>Stayed</td>\n",
       "      <td>No</td>\n",
       "      <td>45</td>\n",
       "      <td>5306</td>\n",
       "      <td>NaN</td>\n",
       "      <td>NaN</td>\n",
       "    </tr>\n",
       "    <tr>\n",
       "      <th>7039</th>\n",
       "      <td>6840-RESVB</td>\n",
       "      <td>Male</td>\n",
       "      <td>38</td>\n",
       "      <td>No</td>\n",
       "      <td>No</td>\n",
       "      <td>Yes</td>\n",
       "      <td>Yes</td>\n",
       "      <td>2</td>\n",
       "      <td>United States</td>\n",
       "      <td>California</td>\n",
       "      <td>...</td>\n",
       "      <td>0</td>\n",
       "      <td>865.20</td>\n",
       "      <td>2807.47</td>\n",
       "      <td>3</td>\n",
       "      <td>Stayed</td>\n",
       "      <td>No</td>\n",
       "      <td>59</td>\n",
       "      <td>2140</td>\n",
       "      <td>NaN</td>\n",
       "      <td>NaN</td>\n",
       "    </tr>\n",
       "    <tr>\n",
       "      <th>7040</th>\n",
       "      <td>2234-XADUH</td>\n",
       "      <td>Female</td>\n",
       "      <td>30</td>\n",
       "      <td>No</td>\n",
       "      <td>No</td>\n",
       "      <td>Yes</td>\n",
       "      <td>Yes</td>\n",
       "      <td>2</td>\n",
       "      <td>United States</td>\n",
       "      <td>California</td>\n",
       "      <td>...</td>\n",
       "      <td>0</td>\n",
       "      <td>2135.52</td>\n",
       "      <td>9453.04</td>\n",
       "      <td>4</td>\n",
       "      <td>Stayed</td>\n",
       "      <td>No</td>\n",
       "      <td>71</td>\n",
       "      <td>5560</td>\n",
       "      <td>NaN</td>\n",
       "      <td>NaN</td>\n",
       "    </tr>\n",
       "    <tr>\n",
       "      <th>7041</th>\n",
       "      <td>4801-JZAZL</td>\n",
       "      <td>Female</td>\n",
       "      <td>32</td>\n",
       "      <td>No</td>\n",
       "      <td>No</td>\n",
       "      <td>Yes</td>\n",
       "      <td>Yes</td>\n",
       "      <td>2</td>\n",
       "      <td>United States</td>\n",
       "      <td>California</td>\n",
       "      <td>...</td>\n",
       "      <td>0</td>\n",
       "      <td>0.00</td>\n",
       "      <td>319.21</td>\n",
       "      <td>4</td>\n",
       "      <td>Stayed</td>\n",
       "      <td>No</td>\n",
       "      <td>59</td>\n",
       "      <td>2793</td>\n",
       "      <td>NaN</td>\n",
       "      <td>NaN</td>\n",
       "    </tr>\n",
       "    <tr>\n",
       "      <th>7042</th>\n",
       "      <td>3186-AJIEK</td>\n",
       "      <td>Male</td>\n",
       "      <td>44</td>\n",
       "      <td>No</td>\n",
       "      <td>No</td>\n",
       "      <td>No</td>\n",
       "      <td>No</td>\n",
       "      <td>0</td>\n",
       "      <td>United States</td>\n",
       "      <td>California</td>\n",
       "      <td>...</td>\n",
       "      <td>0</td>\n",
       "      <td>2043.36</td>\n",
       "      <td>8887.86</td>\n",
       "      <td>4</td>\n",
       "      <td>Stayed</td>\n",
       "      <td>No</td>\n",
       "      <td>38</td>\n",
       "      <td>5097</td>\n",
       "      <td>NaN</td>\n",
       "      <td>NaN</td>\n",
       "    </tr>\n",
       "  </tbody>\n",
       "</table>\n",
       "<p>5 rows × 50 columns</p>\n",
       "</div>"
      ],
      "text/plain": [
       "     Customer ID  Gender  Age Under 30 Senior Citizen Married Dependents  \\\n",
       "7038  2569-WGERO  Female   30       No             No      No         No   \n",
       "7039  6840-RESVB    Male   38       No             No     Yes        Yes   \n",
       "7040  2234-XADUH  Female   30       No             No     Yes        Yes   \n",
       "7041  4801-JZAZL  Female   32       No             No     Yes        Yes   \n",
       "7042  3186-AJIEK    Male   44       No             No      No         No   \n",
       "\n",
       "      Number of Dependents        Country       State  ...  \\\n",
       "7038                     0  United States  California  ...   \n",
       "7039                     2  United States  California  ...   \n",
       "7040                     2  United States  California  ...   \n",
       "7041                     2  United States  California  ...   \n",
       "7042                     0  United States  California  ...   \n",
       "\n",
       "     Total Extra Data Charges  Total Long Distance Charges  Total Revenue  \\\n",
       "7038                        0                      1639.44        3039.53   \n",
       "7039                        0                       865.20        2807.47   \n",
       "7040                        0                      2135.52        9453.04   \n",
       "7041                        0                         0.00         319.21   \n",
       "7042                        0                      2043.36        8887.86   \n",
       "\n",
       "      Satisfaction Score  Customer Status Churn Label Churn Score  CLTV  \\\n",
       "7038                   5           Stayed          No          45  5306   \n",
       "7039                   3           Stayed          No          59  2140   \n",
       "7040                   4           Stayed          No          71  5560   \n",
       "7041                   4           Stayed          No          59  2793   \n",
       "7042                   4           Stayed          No          38  5097   \n",
       "\n",
       "      Churn Category Churn Reason  \n",
       "7038             NaN          NaN  \n",
       "7039             NaN          NaN  \n",
       "7040             NaN          NaN  \n",
       "7041             NaN          NaN  \n",
       "7042             NaN          NaN  \n",
       "\n",
       "[5 rows x 50 columns]"
      ]
     },
     "execution_count": 69,
     "metadata": {},
     "output_type": "execute_result"
    }
   ],
   "source": [
    "df.tail()"
   ]
  },
  {
   "cell_type": "code",
   "execution_count": 70,
   "id": "78d3a992-cda5-4e77-8280-e9b44e46db36",
   "metadata": {},
   "outputs": [
    {
     "data": {
      "text/plain": [
       "Index(['Customer ID', 'Gender', 'Age', 'Under 30', 'Senior Citizen', 'Married',\n",
       "       'Dependents', 'Number of Dependents', 'Country', 'State', 'City',\n",
       "       'Zip Code', 'Latitude', 'Longitude', 'Population', 'Quarter',\n",
       "       'Referred a Friend', 'Number of Referrals', 'Tenure in Months', 'Offer',\n",
       "       'Phone Service', 'Avg Monthly Long Distance Charges', 'Multiple Lines',\n",
       "       'Internet Service', 'Internet Type', 'Avg Monthly GB Download',\n",
       "       'Online Security', 'Online Backup', 'Device Protection Plan',\n",
       "       'Premium Tech Support', 'Streaming TV', 'Streaming Movies',\n",
       "       'Streaming Music', 'Unlimited Data', 'Contract', 'Paperless Billing',\n",
       "       'Payment Method', 'Monthly Charge', 'Total Charges', 'Total Refunds',\n",
       "       'Total Extra Data Charges', 'Total Long Distance Charges',\n",
       "       'Total Revenue', 'Satisfaction Score', 'Customer Status', 'Churn Label',\n",
       "       'Churn Score', 'CLTV', 'Churn Category', 'Churn Reason'],\n",
       "      dtype='object')"
      ]
     },
     "execution_count": 70,
     "metadata": {},
     "output_type": "execute_result"
    }
   ],
   "source": [
    "df.columns"
   ]
  },
  {
   "cell_type": "code",
   "execution_count": 71,
   "id": "61340859-aee7-44a1-9dff-d5e935b6dc2d",
   "metadata": {},
   "outputs": [
    {
     "data": {
      "text/plain": [
       "Contract\n",
       "Month-to-Month    3610\n",
       "Two Year          1883\n",
       "One Year          1550\n",
       "Name: count, dtype: int64"
      ]
     },
     "execution_count": 71,
     "metadata": {},
     "output_type": "execute_result"
    }
   ],
   "source": [
    "df['Contract'].value_counts()"
   ]
  },
  {
   "cell_type": "code",
   "execution_count": 72,
   "id": "3687caad-726d-4e06-bdc7-977287d5e352",
   "metadata": {},
   "outputs": [
    {
     "data": {
      "text/plain": [
       "(7043, 50)"
      ]
     },
     "execution_count": 72,
     "metadata": {},
     "output_type": "execute_result"
    }
   ],
   "source": [
    "df.shape"
   ]
  },
  {
   "cell_type": "code",
   "execution_count": 73,
   "id": "708d70f9-959a-431e-94e1-c9067e294e29",
   "metadata": {},
   "outputs": [
    {
     "data": {
      "text/plain": [
       "Customer ID                             0\n",
       "Gender                                  0\n",
       "Age                                     0\n",
       "Under 30                                0\n",
       "Senior Citizen                          0\n",
       "Married                                 0\n",
       "Dependents                              0\n",
       "Number of Dependents                    0\n",
       "Country                                 0\n",
       "State                                   0\n",
       "City                                    0\n",
       "Zip Code                                0\n",
       "Latitude                                0\n",
       "Longitude                               0\n",
       "Population                              0\n",
       "Quarter                                 0\n",
       "Referred a Friend                       0\n",
       "Number of Referrals                     0\n",
       "Tenure in Months                        0\n",
       "Offer                                3877\n",
       "Phone Service                           0\n",
       "Avg Monthly Long Distance Charges       0\n",
       "Multiple Lines                          0\n",
       "Internet Service                        0\n",
       "Internet Type                        1526\n",
       "Avg Monthly GB Download                 0\n",
       "Online Security                         0\n",
       "Online Backup                           0\n",
       "Device Protection Plan                  0\n",
       "Premium Tech Support                    0\n",
       "Streaming TV                            0\n",
       "Streaming Movies                        0\n",
       "Streaming Music                         0\n",
       "Unlimited Data                          0\n",
       "Contract                                0\n",
       "Paperless Billing                       0\n",
       "Payment Method                          0\n",
       "Monthly Charge                          0\n",
       "Total Charges                           0\n",
       "Total Refunds                           0\n",
       "Total Extra Data Charges                0\n",
       "Total Long Distance Charges             0\n",
       "Total Revenue                           0\n",
       "Satisfaction Score                      0\n",
       "Customer Status                         0\n",
       "Churn Label                             0\n",
       "Churn Score                             0\n",
       "CLTV                                    0\n",
       "Churn Category                       5174\n",
       "Churn Reason                         5174\n",
       "dtype: int64"
      ]
     },
     "execution_count": 73,
     "metadata": {},
     "output_type": "execute_result"
    }
   ],
   "source": [
    "df.isnull().sum()"
   ]
  },
  {
   "cell_type": "markdown",
   "id": "0bca27b2-09e0-4c2c-a94d-b9ff3a4034b6",
   "metadata": {},
   "source": [
    "### Exploratory Data Analysis"
   ]
  },
  {
   "cell_type": "code",
   "execution_count": 74,
   "id": "9bdb5e90-e517-4171-8031-e1dbe4d17834",
   "metadata": {},
   "outputs": [
    {
     "name": "stdout",
     "output_type": "stream",
     "text": [
      "\n",
      "Missing Values:\n",
      " Customer ID                             0\n",
      "Gender                                  0\n",
      "Age                                     0\n",
      "Under 30                                0\n",
      "Senior Citizen                          0\n",
      "Married                                 0\n",
      "Dependents                              0\n",
      "Number of Dependents                    0\n",
      "Country                                 0\n",
      "State                                   0\n",
      "City                                    0\n",
      "Zip Code                                0\n",
      "Latitude                                0\n",
      "Longitude                               0\n",
      "Population                              0\n",
      "Quarter                                 0\n",
      "Referred a Friend                       0\n",
      "Number of Referrals                     0\n",
      "Tenure in Months                        0\n",
      "Offer                                3877\n",
      "Phone Service                           0\n",
      "Avg Monthly Long Distance Charges       0\n",
      "Multiple Lines                          0\n",
      "Internet Service                        0\n",
      "Internet Type                        1526\n",
      "Avg Monthly GB Download                 0\n",
      "Online Security                         0\n",
      "Online Backup                           0\n",
      "Device Protection Plan                  0\n",
      "Premium Tech Support                    0\n",
      "Streaming TV                            0\n",
      "Streaming Movies                        0\n",
      "Streaming Music                         0\n",
      "Unlimited Data                          0\n",
      "Contract                                0\n",
      "Paperless Billing                       0\n",
      "Payment Method                          0\n",
      "Monthly Charge                          0\n",
      "Total Charges                           0\n",
      "Total Refunds                           0\n",
      "Total Extra Data Charges                0\n",
      "Total Long Distance Charges             0\n",
      "Total Revenue                           0\n",
      "Satisfaction Score                      0\n",
      "Customer Status                         0\n",
      "Churn Label                             0\n",
      "Churn Score                             0\n",
      "CLTV                                    0\n",
      "Churn Category                       5174\n",
      "Churn Reason                         5174\n",
      "dtype: int64\n",
      "\n",
      "Duplicates: 0\n"
     ]
    },
    {
     "data": {
      "image/png": "[encoded data removed]",
      "text/plain": [
       "<Figure size 500x400 with 1 Axes>"
      ]
     },
     "metadata": {},
     "output_type": "display_data"
    },
    {
     "data": {
      "image/png": "[encoded data removed]",
      "text/plain": [
       "<Figure size 600x400 with 1 Axes>"
      ]
     },
     "metadata": {},
     "output_type": "display_data"
    }
   ],
   "source": [
    "print(\"\\nMissing Values:\\n\", df.isnull().sum())\n",
    "print(\"\\nDuplicates:\", df.duplicated().sum())\n",
    "\n",
    "# Target distribution\n",
    "plt.figure(figsize=(5,4))\n",
    "sns.countplot(x=\"Churn Label\", data=df, hue=\"Churn Label\", palette=\"Set2\", legend=False)\n",
    "plt.title(\"Churn Distribution\")\n",
    "plt.show()\n",
    "\n",
    "# Example numeric column distribution\n",
    "plt.figure(figsize=(6,4))\n",
    "sns.histplot(df[\"Tenure in Months\"], kde=True, bins=30, color=\"blue\")\n",
    "plt.title(\"Tenure Distribution\")\n",
    "plt.show()"
   ]
  },
  {
   "cell_type": "markdown",
   "id": "6db667ba-02dc-4264-b1ca-fead0ce72c60",
   "metadata": {},
   "source": [
    "### Data Preprocessing"
   ]
  },
  {
   "cell_type": "code",
   "execution_count": 75,
   "id": "bad492f9-c3ca-4225-8659-92f32ed3b912",
   "metadata": {},
   "outputs": [],
   "source": [
    "# Convert target column to binary\n",
    "\n",
    "df[\"Churn Label\"] = df[\"Churn Label\"].map({\"Yes\":1, \"No\":0})\n"
   ]
  },
  {
   "cell_type": "code",
   "execution_count": 76,
   "id": "86fda883-ceac-4692-9c39-bae9d4cdd23d",
   "metadata": {},
   "outputs": [],
   "source": [
    "# Drop customerID (not useful)\n",
    "\n",
    "if \"Customer ID\" in df.columns:\n",
    "    df = df.drop(\"Customer ID\", axis=1)"
   ]
  },
  {
   "cell_type": "code",
   "execution_count": 77,
   "id": "78d847e1-4884-431e-8296-8f709affdd15",
   "metadata": {},
   "outputs": [],
   "source": [
    "# Handle TotalCharges if it's object (convert to numeric)\n",
    "\n",
    "if df[\"Total Charges\"].dtype == \"object\":\n",
    "    df[\"Total Charges\"] = pd.to_numeric(df[\"TotalCharges\"], errors=\"coerce\")"
   ]
  },
  {
   "cell_type": "code",
   "execution_count": 78,
   "id": "c8566271-bfe9-429b-ac6b-46c5ec8f12da",
   "metadata": {},
   "outputs": [],
   "source": [
    "# Fill any missing numeric values with median\n",
    "\n",
    "df = df.fillna(df.median(numeric_only=True))"
   ]
  },
  {
   "cell_type": "code",
   "execution_count": 79,
   "id": "5625e63a-ddfe-47ee-a514-17cfd69385e1",
   "metadata": {},
   "outputs": [],
   "source": [
    "# One-hot encode categorical variables\n",
    "\n",
    "df = pd.get_dummies(df, drop_first=True)"
   ]
  },
  {
   "cell_type": "code",
   "execution_count": 80,
   "id": "30705109-1d7b-4732-b5be-74f5f44238c8",
   "metadata": {},
   "outputs": [],
   "source": [
    "# Split into features & target\n",
    "\n",
    "X = df.drop(\"Churn Label\", axis=1)\n",
    "y = df[\"Churn Label\"]"
   ]
  },
  {
   "cell_type": "code",
   "execution_count": 81,
   "id": "14a8bb6f-ee0f-4d84-bf3f-89463660ede4",
   "metadata": {},
   "outputs": [],
   "source": [
    "# Train-Test Split\n",
    "\n",
    "X_train, X_test, y_train, y_test = train_test_split(\n",
    "    X, y, test_size=0.2, random_state=42, stratify=y\n",
    ")\n"
   ]
  },
  {
   "cell_type": "code",
   "execution_count": 82,
   "id": "e969897d-6096-47ea-b711-010282ba7bfa",
   "metadata": {},
   "outputs": [],
   "source": [
    "# Scale numeric features\n",
    "\n",
    "scaler = StandardScaler()\n",
    "X_train = scaler.fit_transform(X_train)\n",
    "X_test = scaler.transform(X_test)"
   ]
  },
  {
   "cell_type": "markdown",
   "id": "c218c5cc-fbcd-4da7-a48e-9eb4785c1e25",
   "metadata": {},
   "source": [
    "### Model Building"
   ]
  },
  {
   "cell_type": "code",
   "execution_count": 83,
   "id": "46b5cecd-57aa-4a2a-bf41-2a1c2353f4e6",
   "metadata": {},
   "outputs": [],
   "source": [
    "log_reg = LogisticRegression(class_weight=\"balanced\", max_iter=5000, random_state=42)\n",
    "log_reg.fit(X_train, y_train)\n",
    "\n",
    "# Predictions\n",
    "\n",
    "y_pred = log_reg.predict(X_test)\n",
    "y_pred_probs = log_reg.predict_proba(X_test)[:,1]"
   ]
  },
  {
   "cell_type": "markdown",
   "id": "b660799b-717c-4b83-bd9e-02d16cfa62aa",
   "metadata": {},
   "source": [
    "### Evaluation"
   ]
  },
  {
   "cell_type": "code",
   "execution_count": 84,
   "id": "69f0add8-e746-4ffa-b7c8-9e968e2d1936",
   "metadata": {},
   "outputs": [
    {
     "name": "stdout",
     "output_type": "stream",
     "text": [
      "\n",
      "Classification Report:\n",
      "               precision    recall  f1-score   support\n",
      "\n",
      "           0     1.0000    1.0000    1.0000      1035\n",
      "           1     1.0000    1.0000    1.0000       374\n",
      "\n",
      "    accuracy                         1.0000      1409\n",
      "   macro avg     1.0000    1.0000    1.0000      1409\n",
      "weighted avg     1.0000    1.0000    1.0000      1409\n",
      "\n",
      "Accuracy: 1.0\n",
      "Precision: 1.0\n",
      "Recall: 1.0\n",
      "F1-Score: 1.0\n",
      "ROC-AUC: 1.0\n"
     ]
    },
    {
     "data": {
      "image/png": "[encoded data removed]",
      "text/plain": [
       "<Figure size 500x400 with 2 Axes>"
      ]
     },
     "metadata": {},
     "output_type": "display_data"
    }
   ],
   "source": [
    "print(\"\\nClassification Report:\\n\", classification_report(y_test, y_pred, digits=4))\n",
    "print(\"Accuracy:\", accuracy_score(y_test, y_pred))\n",
    "print(\"Precision:\", precision_score(y_test, y_pred))\n",
    "print(\"Recall:\", recall_score(y_test, y_pred))\n",
    "print(\"F1-Score:\", f1_score(y_test, y_pred))\n",
    "print(\"ROC-AUC:\", roc_auc_score(y_test, y_pred_probs))\n",
    "\n",
    "# Confusion Matrix\n",
    "cm = confusion_matrix(y_test, y_pred)\n",
    "plt.figure(figsize=(5,4))\n",
    "sns.heatmap(cm, annot=True, fmt=\"d\", cmap=\"Blues\", xticklabels=[\"No Churn\",\"Churn\"], yticklabels=[\"No Churn\",\"Churn\"])\n",
    "plt.xlabel(\"Predicted\")\n",
    "plt.ylabel(\"Actual\")\n",
    "plt.title(\"Confusion Matrix\")\n",
    "plt.show()"
   ]
  },
  {
   "cell_type": "markdown",
   "id": "e66bca53-7313-48f8-9db1-cc4f80045b69",
   "metadata": {},
   "source": [
    "### Business Insights"
   ]
  },
  {
   "cell_type": "code",
   "execution_count": 85,
   "id": "f9119ecd-7021-4b41-bd23-4562cf2ab711",
   "metadata": {},
   "outputs": [
    {
     "name": "stdout",
     "output_type": "stream",
     "text": [
      "\n",
      "Top Factors Driving Churn:\n",
      "                                         Feature  Coefficient\n",
      "17                                   Churn Score     1.200222\n",
      "1154                   Churn Category_Competitor     0.884174\n",
      "1158     Churn Reason_Attitude of support person     0.858521\n",
      "1155              Churn Category_Dissatisfaction     0.579437\n",
      "1160   Churn Reason_Competitor made better offer     0.542584\n",
      "1156                        Churn Category_Other     0.499503\n",
      "1157                        Churn Category_Price     0.499111\n",
      "1159  Churn Reason_Competitor had better devices     0.400561\n",
      "1162   Churn Reason_Competitor offered more data     0.387152\n",
      "1164                     Churn Reason_Don't know     0.386868\n",
      "\n",
      "Top Factors Preventing Churn:\n",
      "                         Feature  Coefficient\n",
      "1147           Contract_One Year    -0.137896\n",
      "1150  Payment Method_Credit Card    -0.205745\n",
      "7               Tenure in Months    -0.228422\n",
      "23                Dependents_Yes    -0.267736\n",
      "1139         Online Security_Yes    -0.334858\n",
      "1148           Contract_Two Year    -0.379563\n",
      "6            Number of Referrals    -0.413696\n",
      "1152      Customer Status_Joined    -1.383325\n",
      "16            Satisfaction Score    -1.445998\n",
      "1153      Customer Status_Stayed    -2.920088\n"
     ]
    }
   ],
   "source": [
    "coefficients = pd.DataFrame({\n",
    "    \"Feature\": X.columns,\n",
    "    \"Coefficient\": log_reg.coef_[0]\n",
    "}).sort_values(by=\"Coefficient\", ascending=False)\n",
    "\n",
    "print(\"\\nTop Factors Driving Churn:\")\n",
    "print(coefficients.head(10))\n",
    "print(\"\\nTop Factors Preventing Churn:\")\n",
    "print(coefficients.tail(10))\n"
   ]
  },
  {
   "cell_type": "markdown",
   "id": "d03f6fc3-6a8d-406f-859e-a4af725f3d1d",
   "metadata": {},
   "source": [
    "### Real-Time Simulation"
   ]
  },
  {
   "cell_type": "code",
   "execution_count": 63,
   "id": "e44ed02e-3dbb-4821-b683-12feeab5aa7b",
   "metadata": {},
   "outputs": [
    {
     "name": "stdout",
     "output_type": "stream",
     "text": [
      "Customer 0: ✅ Will stay (99.98% probability)\n",
      "Customer 1: ✅ Will stay (99.94% probability)\n",
      "Customer 2: ✅ Will stay (100.00% probability)\n",
      "Customer 3: ✅ Will stay (100.00% probability)\n",
      "Customer 4: ✅ Will stay (99.99% probability)\n"
     ]
    }
   ],
   "source": [
    "# Example: simulate prediction for first 5 customers\n",
    "\n",
    "sample_customers = X_test[:5]\n",
    "predictions = log_reg.predict(sample_customers)\n",
    "probs = log_reg.predict_proba(sample_customers)[:,1]\n",
    "\n",
    "for i, (pred, prob) in enumerate(zip(predictions, probs)):\n",
    "    if pred == 1:\n",
    "        print(f\"Customer {i}: 🚨 Likely to churn ({prob*100:.2f}% probability)\")\n",
    "    else:\n",
    "        print(f\"Customer {i}: ✅ Will stay ({(1-prob)*100:.2f}% probability)\")\n"
   ]
  }
 ],
 "metadata": {
  "kernelspec": {
   "display_name": "Python 3 (ipykernel)",
   "language": "python",
   "name": "python3"
  },
  "language_info": {
   "codemirror_mode": {
    "name": "ipython",
    "version": 3
   },
   "file_extension": ".py",
   "mimetype": "text/x-python",
   "name": "python",
   "nbconvert_exporter": "python",
   "pygments_lexer": "ipython3",
   "version": "3.13.5"
  },
  "widgets": {
   "application/vnd.jupyter.widget-state+json": {
    "state": {},
    "version_major": 2,
    "version_minor": 0
   }
  }
 },
 "nbformat": 4,
 "nbformat_minor": 5
}
